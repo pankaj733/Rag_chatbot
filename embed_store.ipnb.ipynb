{
 "cells": [
  {
   "cell_type": "code",
   "execution_count": null,
   "metadata": {},
   "outputs": [],
   "source": [
    "import os\n",
    "import re\n",
    "\n",
    "def load_and_chunk_corpus(corpus_dir, chunk_size=300):\n",
    "    chunks = []\n",
    "    for filename in os.listdir(corpus_dir):\n",
    "        if filename.endswith('.txt'):\n",
    "            with open(os.path.join(corpus_dir, filename), 'r', encoding='utf-8') as file:\n",
    "                text = file.read()\n",
    "                # Clean and normalize text\n",
    "                text = re.sub(r'\\s+', ' ', text).strip()\n",
    "                # Split into chunks\n",
    "                for i in range(0, len(text), chunk_size):\n",
    "                    chunks.append(text[i:i + chunk_size])\n",
    "    return chunks\n",
    "\n",
    "corpus_chunks = load_and_chunk_corpus('corpus/')"
   ]
  },
  {
   "cell_type": "code",
   "execution_count": null,
   "metadata": {},
   "outputs": [],
   "source": [
    "pip install chromadb"
   ]
  },
  {
   "cell_type": "code",
   "execution_count": null,
   "metadata": {},
   "outputs": [],
   "source": [
    "from sentence_transformers import SentenceTransformer\n",
    "\n",
    "model = SentenceTransformer('all-MiniLM-L6-v2')\n",
    "\n",
    "def embed_chunks(chunks):\n",
    "    return model.encode(chunks)\n",
    "\n",
    "embeddings = embed_chunks(corpus_chunks)"
   ]
  },
  {
   "cell_type": "code",
   "execution_count": null,
   "metadata": {},
   "outputs": [],
   "source": [
    "import chromadb\n",
    "\n",
    "client = chromadb.Client()\n",
    "collection = client.create_collection(\"chatbot_corpus\")\n",
    "\n",
    "for chunk, embedding in zip(corpus_chunks, embeddings):\n",
    "    collection.add(documents=[chunk], embeddings=[embedding.tolist()])"
   ]
  },
  {
   "cell_type": "code",
   "execution_count": null,
   "metadata": {},
   "outputs": [],
   "source": [
    "def retrieve_relevant_chunks(query, top_k=5):\n",
    "    query_embedding = model.encode([query]).tolist()\n",
    "    results = collection.query(embeddings=query_embedding, n_results=top_k)\n",
    "    return results['documents'][0]"
   ]
  },
  {
   "cell_type": "code",
   "execution_count": null,
   "metadata": {},
   "outputs": [],
   "source": [
    "def generate_answer(query):\n",
    "    relevant_chunks = retrieve_relevant_chunks(query)\n",
    "    context = \" \".join(relevant_chunks)\n",
    "    # Simple answer generation (you can replace this with a more complex model)\n",
    "    return f\"Based on the information: {context} \\n\\n Your query was: {query}\""
   ]
  }
 ],
 "metadata": {
  "language_info": {
   "name": "python"
  }
 },
 "nbformat": 4,
 "nbformat_minor": 2
}
