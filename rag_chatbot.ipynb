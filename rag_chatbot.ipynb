{
 "cells": [
  {
   "cell_type": "code",
   "execution_count": null,
   "metadata": {},
   "outputs": [],
   "source": [
    "pip install Flask Flask-MySQLdb"
   ]
  },
  {
   "cell_type": "code",
   "execution_count": null,
   "metadata": {},
   "outputs": [],
   "source": [
    "from flask import Flask, request, jsonify\n",
    "import MySQLdb\n",
    "import datetime\n",
    "\n",
    "app = Flask(__name__)\n",
    "\n",
    "# MySQL connection\n",
    "db = MySQLdb.connect(host=\"localhost\", user=\"your_user\", passwd=\"your_password\", db=\"chatbot_db\")\n",
    "cursor = db.cursor()\n",
    "\n",
    "@app.route('/chat', methods=['POST'])\n",
    "def chat():\n",
    "    data = request.json\n",
    "    user_query = data['query']\n",
    "    answer = generate_answer(user_query)\n",
    "    \n",
    "    # Store in MySQL\n",
    "    timestamp = datetime.datetime.now()\n",
    "    cursor.execute(\"INSERT INTO chat_history (timestamp, role, content) VALUES (%s, %s, %s)\", (timestamp, 'user', user_query))\n",
    "    cursor.execute(\"INSERT INTO chat_history (timestamp, role, content) VALUES (%s, %s, %s)\", (timestamp, 'system', answer))\n",
    "    db.commit()\n",
    "    \n",
    "    return jsonify({\"answer\": answer})\n",
    "\n",
    "@app.route('/history', methods=['GET'])\n",
    "def history():\n",
    "    cursor.execute(\"SELECT * FROM chat_history\")\n",
    "    rows = cursor.fetchall()\n",
    "    return jsonify(rows)\n",
    "\n",
    "if __name__ == '__main__':\n",
    "    app.run(debug=True)"
   ]
  }
 ],
 "metadata": {
  "language_info": {
   "name": "python"
  }
 },
 "nbformat": 4,
 "nbformat_minor": 2
}
