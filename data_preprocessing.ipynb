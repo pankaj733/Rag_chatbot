{
 "cells": [
  {
   "cell_type": "code",
   "execution_count": null,
   "metadata": {},
   "outputs": [],
   "source": [
    "import os\n",
    "import re\n",
    "\n",
    "def load_and_chunk_corpus(corpus_dir, chunk_size=300):\n",
    "    chunks = []\n",
    "    for filename in os.listdir(corpus_dir):\n",
    "        if filename.endswith('.txt'):\n",
    "            with open(os.path.join(corpus_dir, filename), 'r', encoding='utf-8') as file:\n",
    "                text = file.read()\n",
    "                # Clean and normalize text\n",
    "                text = re.sub(r'\\s+', ' ', text).strip()\n",
    "                # Split into chunks\n",
    "                for i in range(0, len(text), chunk_size):\n",
    "                    chunks.append(text[i:i + chunk_size])\n",
    "    return chunks\n",
    "\n",
    "corpus_chunks = load_and_chunk_corpus('corpus/')"
   ]
  }
 ],
 "metadata": {
  "language_info": {
   "name": "python"
  }
 },
 "nbformat": 4,
 "nbformat_minor": 2
}
