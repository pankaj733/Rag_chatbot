{
 "cells": [
  {
   "cell_type": "code",
   "execution_count": null,
   "metadata": {},
   "outputs": [],
   "source": [
    "CREATE DATABASE chatbot_db;\n",
    "\n",
    "USE chatbot_db;\n",
    "\n",
    "CREATE TABLE chat_history (\n",
    "    id INT AUTO_INCREMENT PRIMARY KEY,\n",
    "    timestamp DATETIME,\n",
    "    role ENUM('user', 'system'),\n",
    "    content TEXT\n",
    ");"
   ]
  },
  {
   "cell_type": "code",
   "execution_count": null,
   "metadata": {},
   "outputs": [],
   "source": [
    "import unittest\n",
    "import json\n",
    "from app import app\n",
    "\n",
    "class ChatbotTestCase(unittest.TestCase):\n",
    "    def setUp(self):\n",
    "        self.app = app.test_client()\n",
    "        self.app.testing = True\n",
    "\n",
    "    def test_chat(self):\n",
    "        response = self.app.post('/chat', json={'query': 'What is RAG?'})\n",
    "        self.assertEqual(response.status_code, 200)\n",
    "\n",
    "    def test_history(self):\n",
    "        response = self.app.get('/history')\n",
    "        self.assertEqual(response.status_code, 200)\n",
    "\n",
    "if __name__ == '__main__':\n",
    "    unittest.main()"
   ]
  }
 ],
 "metadata": {
  "language_info": {
   "name": "python"
  }
 },
 "nbformat": 4,
 "nbformat_minor": 2
}
